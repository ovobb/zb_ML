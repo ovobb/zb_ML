{
 "cells": [
  {
   "cell_type": "code",
   "execution_count": 2,
   "id": "5d913305",
   "metadata": {},
   "outputs": [
    {
     "name": "stdout",
     "output_type": "stream",
     "text": [
      "Requirement already satisfied: statsmodels in /Users/admin/miniconda3/envs/ds_study/lib/python3.8/site-packages (0.13.5)\n",
      "Requirement already satisfied: numpy>=1.17 in /Users/admin/miniconda3/envs/ds_study/lib/python3.8/site-packages (from statsmodels) (1.23.4)\n",
      "Requirement already satisfied: scipy>=1.3 in /Users/admin/miniconda3/envs/ds_study/lib/python3.8/site-packages (from statsmodels) (1.9.3)\n",
      "Requirement already satisfied: packaging>=21.3 in /Users/admin/miniconda3/envs/ds_study/lib/python3.8/site-packages (from statsmodels) (22.0)\n",
      "Requirement already satisfied: patsy>=0.5.2 in /Users/admin/miniconda3/envs/ds_study/lib/python3.8/site-packages (from statsmodels) (0.5.3)\n",
      "Requirement already satisfied: pandas>=0.25 in /Users/admin/miniconda3/envs/ds_study/lib/python3.8/site-packages (from statsmodels) (1.5.2)\n",
      "Requirement already satisfied: python-dateutil>=2.8.1 in /Users/admin/miniconda3/envs/ds_study/lib/python3.8/site-packages (from pandas>=0.25->statsmodels) (2.8.2)\n",
      "Requirement already satisfied: pytz>=2020.1 in /Users/admin/miniconda3/envs/ds_study/lib/python3.8/site-packages (from pandas>=0.25->statsmodels) (2022.7)\n",
      "Requirement already satisfied: six in /Users/admin/miniconda3/envs/ds_study/lib/python3.8/site-packages (from patsy>=0.5.2->statsmodels) (1.16.0)\n"
     ]
    }
   ],
   "source": [
    "!pip install statsmodels"
   ]
  },
  {
   "cell_type": "code",
   "execution_count": 4,
   "id": "f246f8d2",
   "metadata": {},
   "outputs": [
    {
     "data": {
      "text/html": [
       "<div>\n",
       "<style scoped>\n",
       "    .dataframe tbody tr th:only-of-type {\n",
       "        vertical-align: middle;\n",
       "    }\n",
       "\n",
       "    .dataframe tbody tr th {\n",
       "        vertical-align: top;\n",
       "    }\n",
       "\n",
       "    .dataframe thead th {\n",
       "        text-align: right;\n",
       "    }\n",
       "</style>\n",
       "<table border=\"1\" class=\"dataframe\">\n",
       "  <thead>\n",
       "    <tr style=\"text-align: right;\">\n",
       "      <th></th>\n",
       "      <th>x</th>\n",
       "      <th>y</th>\n",
       "    </tr>\n",
       "  </thead>\n",
       "  <tbody>\n",
       "    <tr>\n",
       "      <th>0</th>\n",
       "      <td>1</td>\n",
       "      <td>1</td>\n",
       "    </tr>\n",
       "    <tr>\n",
       "      <th>1</th>\n",
       "      <td>2</td>\n",
       "      <td>3</td>\n",
       "    </tr>\n",
       "    <tr>\n",
       "      <th>2</th>\n",
       "      <td>3</td>\n",
       "      <td>4</td>\n",
       "    </tr>\n",
       "    <tr>\n",
       "      <th>3</th>\n",
       "      <td>4</td>\n",
       "      <td>6</td>\n",
       "    </tr>\n",
       "    <tr>\n",
       "      <th>4</th>\n",
       "      <td>5</td>\n",
       "      <td>5</td>\n",
       "    </tr>\n",
       "  </tbody>\n",
       "</table>\n",
       "</div>"
      ],
      "text/plain": [
       "   x  y\n",
       "0  1  1\n",
       "1  2  3\n",
       "2  3  4\n",
       "3  4  6\n",
       "4  5  5"
      ]
     },
     "execution_count": 4,
     "metadata": {},
     "output_type": "execute_result"
    }
   ],
   "source": [
    "import pandas as pd\n",
    "\n",
    "data = {'x': [1,2,3,4,5], 'y':[1,3,4,6,5]}\n",
    "df = pd.DataFrame(data)\n",
    "\n",
    "df"
   ]
  },
  {
   "cell_type": "code",
   "execution_count": 5,
   "id": "b624607f",
   "metadata": {},
   "outputs": [],
   "source": [
    "import statsmodels.formula.api as smf\n",
    "\n",
    "lm_model = smf.ols(formula='y ~ x', data=df).fit()  # y ~ x : y = ax + b"
   ]
  },
  {
   "cell_type": "code",
   "execution_count": 7,
   "id": "d3cf7656",
   "metadata": {},
   "outputs": [
    {
     "data": {
      "text/plain": [
       "Intercept    0.5\n",
       "x            1.1\n",
       "dtype: float64"
      ]
     },
     "execution_count": 7,
     "metadata": {},
     "output_type": "execute_result"
    }
   ],
   "source": [
    "lm_model.params  # intercept : y절편 , x : 기울기"
   ]
  },
  {
   "cell_type": "code",
   "execution_count": 14,
   "id": "78c60199",
   "metadata": {},
   "outputs": [
    {
     "data": {
      "image/png": "[encoded data removed]",
      "text/plain": [
       "<Figure size 500x500 with 1 Axes>"
      ]
     },
     "metadata": {},
     "output_type": "display_data"
    }
   ],
   "source": [
    "import matplotlib.pyplot as plt\n",
    "import seaborn as sns\n",
    "\n",
    "sns.lmplot(x='x', y='y', data=df);"
   ]
  },
  {
   "cell_type": "markdown",
   "id": "3808d142",
   "metadata": {},
   "source": [
    "### 잔차 평가 residue\n",
    "- 잔차 : 내 모델과 실제값과의 차이\n",
    "- 잔차는 평균이 0인 정규분포를 따르는 것이어야 한다\n",
    "- 잔차 평가는 평균이 0이고 정규분포를 따르는지 확인"
   ]
  },
  {
   "cell_type": "code",
   "execution_count": 15,
   "id": "7b09deb8",
   "metadata": {},
   "outputs": [
    {
     "data": {
      "text/plain": [
       "0   -0.6\n",
       "1    0.3\n",
       "2    0.2\n",
       "3    1.1\n",
       "4   -1.0\n",
       "dtype: float64"
      ]
     },
     "execution_count": 15,
     "metadata": {},
     "output_type": "execute_result"
    }
   ],
   "source": [
    "resid = lm_model.resid\n",
    "resid"
   ]
  },
  {
   "cell_type": "markdown",
   "id": "e7eba2e3",
   "metadata": {},
   "source": [
    "### 결정계수 R-Squared = ssR/ssT\n",
    "- y-hat은 예측된 값\n",
    "- 예측값과 실제값(y)이 일치하면 결정계수는 1이 됨(즉 결정계수가 높을수록 좋은 모델)"
   ]
  },
  {
   "cell_type": "code",
   "execution_count": 16,
   "id": "2d7c7dee",
   "metadata": {},
   "outputs": [
    {
     "data": {
      "text/plain": [
       "0.8175675675675674"
      ]
     },
     "execution_count": 16,
     "metadata": {},
     "output_type": "execute_result"
    }
   ],
   "source": [
    "import numpy as np\n",
    "\n",
    "mu = np.mean(df['y'])\n",
    "y = df['y']\n",
    "\n",
    "y_hat = lm_model.predict()\n",
    "np.sum((y_hat-mu)**2) / np.sum((y-mu)**2)"
   ]
  },
  {
   "cell_type": "code",
   "execution_count": 17,
   "id": "481f41b8",
   "metadata": {},
   "outputs": [
    {
     "data": {
      "text/plain": [
       "0.8175675675675675"
      ]
     },
     "execution_count": 17,
     "metadata": {},
     "output_type": "execute_result"
    }
   ],
   "source": [
    "# 위의 과정 간단하게\n",
    "\n",
    "lm_model.rsquared"
   ]
  },
  {
   "cell_type": "code",
   "execution_count": 18,
   "id": "c4c79a43",
   "metadata": {},
   "outputs": [
    {
     "name": "stderr",
     "output_type": "stream",
     "text": [
      "/var/folders/c6/471s425j3qxdj2hh7ryngzk40000gn/T/ipykernel_365/65180061.py:1: UserWarning: \n",
      "\n",
      "`distplot` is a deprecated function and will be removed in seaborn v0.14.0.\n",
      "\n",
      "Please adapt your code to use either `displot` (a figure-level function with\n",
      "similar flexibility) or `histplot` (an axes-level function for histograms).\n",
      "\n",
      "For a guide to updating your code to use the new functions, please see\n",
      "https://gist.github.com/mwaskom/de44147ed2974457ad6372750bbe5751\n",
      "\n",
      "  sns.distplot(resid, color='black')\n"
     ]
    },
    {
     "data": {
      "text/plain": [
       "<AxesSubplot: ylabel='Density'>"
      ]
     },
     "execution_count": 18,
     "metadata": {},
     "output_type": "execute_result"
    },
    {
     "data": {
      "image/png": "[encoded data removed]",
      "text/plain": [
       "<Figure size 640x480 with 1 Axes>"
      ]
     },
     "metadata": {},
     "output_type": "display_data"
    }
   ],
   "source": [
    "sns.distplot(resid, color='black')"
   ]
  },
  {
   "cell_type": "code",
   "execution_count": null,
   "id": "fc53bb88",
   "metadata": {},
   "outputs": [],
   "source": []
  }
 ],
 "metadata": {
  "kernelspec": {
   "display_name": "Python 3 (ipykernel)",
   "language": "python",
   "name": "python3"
  },
  "language_info": {
   "codemirror_mode": {
    "name": "ipython",
    "version": 3
   },
   "file_extension": ".py",
   "mimetype": "text/x-python",
   "name": "python",
   "nbconvert_exporter": "python",
   "pygments_lexer": "ipython3",
   "version": "3.8.15"
  }
 },
 "nbformat": 4,
 "nbformat_minor": 5
}
